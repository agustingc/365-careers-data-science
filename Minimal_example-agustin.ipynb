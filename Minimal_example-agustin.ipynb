{
 "cells": [
  {
   "cell_type": "markdown",
   "metadata": {},
   "source": [
    "# Simple Linear Regression, Minimal Example Practice"
   ]
  },
  {
   "cell_type": "markdown",
   "metadata": {},
   "source": [
    "##### Agustin Gimenez, 05/26/2022"
   ]
  },
  {
   "cell_type": "code",
   "execution_count": 1,
   "metadata": {},
   "outputs": [],
   "source": [
    "# import the relevant libraries\n",
    "import numpy as np\n",
    "import matplotlib.pyplot as plt\n",
    "from mpl_toolkits.mplot3d import Axes3D"
   ]
  },
  {
   "cell_type": "code",
   "execution_count": 2,
   "metadata": {},
   "outputs": [
    {
     "name": "stdout",
     "output_type": "stream",
     "text": [
      "(1000, 2)\n"
     ]
    }
   ],
   "source": [
    "#generate random input data to train on\n",
    "no_observations = 1000\n",
    "\n",
    "#random data\n",
    "x = np.random.uniform(low=-10, high=10,size=(no_observations,1))\n",
    "z = np.random.uniform(low=-10, high=10,size=(no_observations,1))\n",
    "\n",
    "#lets combine the input variables in one matrix\n",
    "inputs = np.column_stack((x,z))\n",
    "\n",
    "print(inputs.shape)"
   ]
  },
  {
   "cell_type": "code",
   "execution_count": 3,
   "metadata": {},
   "outputs": [
    {
     "name": "stdout",
     "output_type": "stream",
     "text": [
      "(1000, 1)\n"
     ]
    }
   ],
   "source": [
    "# create targets = f(x,z) = 2x -3z + 5 + noise\n",
    "noise = np.random.uniform(-1,1,(no_observations,1))\n",
    "t = 2*x - 3*z + 5 + noise\n",
    "\n",
    "print(t.shape)"
   ]
  },
  {
   "cell_type": "code",
   "execution_count": 4,
   "metadata": {},
   "outputs": [
    {
     "data": {
      "image/png": "[encoded data removed]",
      "text/plain": [
       "<Figure size 432x288 with 1 Axes>"
      ]
     },
     "metadata": {
      "needs_background": "light"
     },
     "output_type": "display_data"
    }
   ],
   "source": [
    "# In order to use the 3D plot, the objects should have a certain shape, so we reshape the targets.\n",
    "# The proper method to use is reshape and takes as arguments the dimensions in which we want to fit the object.\n",
    "x = x.reshape(no_observations,)\n",
    "z = z.reshape(no_observations,)\n",
    "t = t.reshape(no_observations,)\n",
    "\n",
    "# Plotting according to the conventional matplotlib.pyplot syntax\n",
    "\n",
    "# Declare the figure\n",
    "fig = plt.figure()\n",
    "\n",
    "# A method allowing us to create the 3D plot\n",
    "ax = fig.add_subplot(111, projection='3d')\n",
    "\n",
    "# Choose the axes.\n",
    "ax.plot(x, z, t)\n",
    "\n",
    "# Set labels\n",
    "ax.set_xlabel('x')\n",
    "ax.set_ylabel('z')\n",
    "ax.set_zlabel('t')\n",
    "\n",
    "# You can fiddle with the azim parameter to plot the data from different angles. Just change the value of azim=100\n",
    "# to azim = 0 ; azim = 200, or whatever. Check and see what happens.\n",
    "ax.view_init(azim=100)\n",
    "\n",
    "# So far we were just describing the plot. This method actually shows the plot. \n",
    "plt.show()\n",
    "\n",
    "# We reshape the targets back to the shape that they were in before plotting.\n",
    "# This reshaping is a side-effect of the 3D plot. Sorry for that.\n",
    "x = x.reshape(no_observations,1)\n",
    "z = z.reshape(no_observations,1)\n",
    "t = t.reshape(no_observations,1)"
   ]
  },
  {
   "cell_type": "code",
   "execution_count": 5,
   "metadata": {},
   "outputs": [],
   "source": [
    "# create the algorithm\n",
    "# Linear Model: y=xw+b\n",
    "\n",
    "init_range = 0.1\n",
    "\n",
    "# weights for two variables x and z\n",
    "w = np.random.uniform(low=-init_range, high=init_range, size=(2,1))\n",
    "\n",
    "# bias as a scalar\n",
    "b = np.random.uniform(low=-init_range, high=init_range, size=1)\n",
    "\n",
    "# learning rate (eta)\n",
    "learning_rate = 0.02"
   ]
  },
  {
   "cell_type": "markdown",
   "metadata": {},
   "source": [
    "### Train the model"
   ]
  },
  {
   "cell_type": "code",
   "execution_count": 10,
   "metadata": {},
   "outputs": [],
   "source": [
    "for i in range (1000):\n",
    "    \n",
    "    y = np.dot(inputs,w) + b\n",
    "\n",
    "    deltas = y - t\n",
    "        \n",
    "    loss = np.sum(deltas ** 2) / 2 / no_observations\n",
    "\n",
    "    deltas_scaled = deltas / no_observations\n",
    "\n",
    "    w = w - learning_rate * np.dot(inputs.T,deltas_scaled)\n",
    "    b = b - learning_rate * np.sum(deltas_scaled)\n"
   ]
  },
  {
   "cell_type": "code",
   "execution_count": 11,
   "metadata": {},
   "outputs": [
    {
     "name": "stdout",
     "output_type": "stream",
     "text": [
      "[[ 1.9998149 ]\n",
      " [-3.00082263]] [5.00484521]\n"
     ]
    }
   ],
   "source": [
    "# Compare result with desired target, i.e. f(x,z) = 2x -3z + 5 + noise\n",
    "print(w,b)"
   ]
  },
  {
   "cell_type": "code",
   "execution_count": null,
   "metadata": {},
   "outputs": [],
   "source": []
  },
  {
   "cell_type": "code",
   "execution_count": null,
   "metadata": {},
   "outputs": [],
   "source": []
  }
 ],
 "metadata": {
  "kernelspec": {
   "display_name": "Python 3",
   "language": "python",
   "name": "python3"
  },
  "language_info": {
   "codemirror_mode": {
    "name": "ipython",
    "version": 3
   },
   "file_extension": ".py",
   "mimetype": "text/x-python",
   "name": "python",
   "nbconvert_exporter": "python",
   "pygments_lexer": "ipython3",
   "version": "3.8.5"
  }
 },
 "nbformat": 4,
 "nbformat_minor": 4
}
